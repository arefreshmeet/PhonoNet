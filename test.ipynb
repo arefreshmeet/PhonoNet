{
 "cells": [
  {
   "cell_type": "code",
   "execution_count": 17,
   "metadata": {},
   "outputs": [
    {
     "name": "stdout",
     "output_type": "stream",
     "text": [
      "MgO/\n",
      "torch.Size([162000, 3]) torch.Size([162000, 1]) torch.Size([162000, 1]) torch.Size([162000, 1])\n",
      "all_data.shape torch.Size([162000, 6])\n",
      "Data:Qpoints, energy, square velocity, Tau\n",
      "162000\n",
      "torch.Size([30, 30, 30, 300])\n",
      "max energy tensor(252, device='cuda:0', dtype=torch.int32)\n"
     ]
    }
   ],
   "source": [
    "import torch\n",
    "import numpy as np\n",
    "\n",
    "def Energy_loc(tot_num, energy): \n",
    "    loc = torch.round(tot_num / 150 * energy).long()  # Converted to long for indexing\n",
    "    return loc\n",
    "\n",
    "NumOneHot = 300\n",
    "path = 'MgO/' # 'around_dos_tensor.pth',\n",
    "\n",
    "device = torch.device('cuda:0' if torch.cuda.is_available() else 'cpu')\n",
    "print(path)\n",
    "dpath = path + 'DataSet/'\n",
    "energy = torch.from_numpy(np.loadtxt(dpath + 'EnergyFull')).to(device)\n",
    "nband = energy.shape[1]\n",
    "\n",
    "# print(energy[0].detach(),nband)\n",
    "energy = torch.flatten(energy.t()).view(len(energy)*nband,1)\n",
    "# print(energy[0].detach())\n",
    "\n",
    "QP = torch.from_numpy(np.loadtxt(dpath + 'QPFull')).to(device)\n",
    "QP = QP.repeat(nband,1)\n",
    "Tau = torch.from_numpy(np.loadtxt(dpath + 'TauFull')).to(device)\n",
    "Tau = torch.flatten(Tau.t()).view(len(Tau)*nband,1)\n",
    "vx = torch.from_numpy(np.loadtxt(dpath + 'VXFull')).to(device)\n",
    "vx = vx[:,1:]\n",
    "vx = torch.flatten(vx.t()).view(len(vx)*nband,1)\n",
    "vx = vx.pow(2)\n",
    "print(QP.shape, energy.shape, vx.shape, Tau.shape)\n",
    "all_data = torch.cat((QP, energy, vx, Tau), 1)\n",
    "nkpt = all_data.size(0)\n",
    "print('all_data.shape',all_data.shape)\n",
    "print('Data:Qpoints, energy, square velocity, Tau')\n",
    "print(nkpt)\n",
    "na, nb,nc,ne = 30,30,30, NumOneHot \n",
    "One_hot = torch.zeros((na,nb,nc,ne), device=device)\n",
    "print(One_hot.shape)\n",
    "oh_data = all_data[:,0:4].clone()\n",
    "oh_data[:,0:3] = oh_data[:,0:3] / 0.033333\n",
    "oh_data[:,3] = Energy_loc(NumOneHot,oh_data[:,3])\n",
    "oh_data = oh_data.type(torch.int)\n",
    "print('max energy',torch.max(oh_data[:,3]))\n",
    "for qp in range(nkpt):\n",
    "    One_hot[oh_data[qp][0],oh_data[qp][1],oh_data[qp][2],oh_data[qp][3]] += 1\n",
    "\n"
   ]
  },
  {
   "cell_type": "code",
   "execution_count": 32,
   "metadata": {},
   "outputs": [
    {
     "name": "stdout",
     "output_type": "stream",
     "text": [
      "tensor([ 0.1000,  0.0000,  0.0000, 13.5891,  9.0579,  8.8887], device='cuda:0',\n",
      "       dtype=torch.float64)\n",
      "(tensor([    0, 27000, 54000], device='cuda:0'),)\n",
      "(tensor([    0, 27000, 54000]),)\n",
      "loc0 tensor(81000, device='cuda:0')\n",
      "low Optic tensor(69.6717, device='cuda:0', dtype=torch.float64)\n",
      "162000\n",
      "tensor([10., 10., 10.,  ...,  1.,  1.,  1.])\n"
     ]
    }
   ],
   "source": [
    "# Weight:\n",
    "Weight = torch.ones(nkpt)\n",
    "print(all_data[3,:].detach())\n",
    "print(torch.where(all_data[:,3] == 0))\n",
    "indice = torch.where(all_data[:,3] == 0)\n",
    "Weight[indice] = 0\n",
    "print(torch.where(Weight == 0))\n",
    "# print(torch.where[all_data[:,0:3] == torch.tensor([0,0,0],device=device)])\n",
    "loc = torch.where((all_data[:,0] == 0) & (all_data[:,1] == 0) & (all_data[:,2] == 0))\n",
    "print('loc0',loc[0][3])\n",
    "lowOptic = all_data[loc[0][3]][3]\n",
    "print('low Optic',lowOptic)\n",
    "indice = torch.where(all_data[:,3] <= lowOptic)\n",
    "Weight[indice] = 10\n",
    "print(Weight.__len__())\n",
    "print(Weight)\n"
   ]
  },
  {
   "cell_type": "code",
   "execution_count": null,
   "metadata": {},
   "outputs": [],
   "source": []
  }
 ],
 "metadata": {
  "kernelspec": {
   "display_name": "PhonoNet",
   "language": "python",
   "name": "python3"
  },
  "language_info": {
   "codemirror_mode": {
    "name": "ipython",
    "version": 3
   },
   "file_extension": ".py",
   "mimetype": "text/x-python",
   "name": "python",
   "nbconvert_exporter": "python",
   "pygments_lexer": "ipython3",
   "version": "3.7.11"
  },
  "orig_nbformat": 4
 },
 "nbformat": 4,
 "nbformat_minor": 2
}
