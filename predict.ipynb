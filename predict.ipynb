{
 "cells": [
  {
   "cell_type": "code",
   "execution_count": 22,
   "metadata": {},
   "outputs": [
    {
     "name": "stdout",
     "output_type": "stream",
     "text": [
      "Current working directory: /data/lizheng/phononet\n"
     ]
    }
   ],
   "source": [
    "import tarfile\n",
    "import os\n",
    "from pathlib import Path\n",
    "import lzma\n",
    "import shutil\n",
    "\n",
    "current_directory = os.getcwd()\n",
    "print(f\"Current working directory: {current_directory}\")"
   ]
  },
  {
   "cell_type": "code",
   "execution_count": 24,
   "metadata": {},
   "outputs": [
    {
     "name": "stdout",
     "output_type": "stream",
     "text": [
      "Found 10 .tar.lzma files to process.\n",
      "Processing 1/10: PhononData/mp-2758.tar.lzma\n",
      "PhononData/mp-2758.tar.lzma PhononData/mp-2758\n",
      "Extracted files: helmholtz-volume.dat gruneisen.png thermal_properties-06.yaml thermal_properties-04.yaml thermal_properties-09.yaml thermal_expansion.dat qha.png thermal_properties-03.yaml Cv-volume.dat volume_expansion.dat estimated_thermal_props-02.yaml e-v.dat quasiharmonic_phonon.yaml volume-temperature.dat entropy-volume.dat estimated_thermal_props-00.yaml thermal_properties-05.yaml bulk_modulus-temperature.dat estimated_thermal_props-01.yaml estimated_thermal_props-06.yaml Cp-temperature_polyfit.dat estimated_thermal_props-05.yaml estimated_thermal_props-03.yaml gruneisen-temperature.dat estimated_thermal_props-04.yaml thermal_properties-08.yaml Cp-temperature.dat thermal_properties-07.yaml thermal_properties-00.yaml thermal_properties-02.yaml thermal_properties-01.yaml dsdv-temperature.dat gibbs-temperature.dat qha.log estimated_e-v.dat\n",
      "Extracted folder and files removed.\n",
      "Processing 2/10: PhononData/mp-17719-20180417.tar.lzma\n",
      "PhononData/mp-17719-20180417.tar.lzma PhononData/mp-17719-20180417\n",
      "Extracted files: KPOINTS-force POSCAR-unitcell phonopy.conf PAW_dataset.txt disp.yaml INCAR-force KPOINTS-relax INCAR-relax FORCE_SETS KPOINTS-nac phonon.yaml INCAR-nac POSCAR-unitcell.yaml BORN\n",
      "Extracted folder and files removed.\n",
      "Processing 3/10: PhononData/mp-541628-20180417.tar.lzma\n",
      "PhononData/mp-541628-20180417.tar.lzma PhononData/mp-541628-20180417\n",
      "Extracted files: KPOINTS-force POSCAR-unitcell phonopy.conf PAW_dataset.txt disp.yaml INCAR-force KPOINTS-relax INCAR-relax FORCE_SETS KPOINTS-nac phonon.yaml INCAR-nac POSCAR-unitcell.yaml BORN\n",
      "Extracted folder and files removed.\n",
      "Processing 4/10: PhononData/mp-556631-20180417.tar.lzma\n",
      "PhononData/mp-556631-20180417.tar.lzma PhononData/mp-556631-20180417\n",
      "Extracted files: KPOINTS-force POSCAR-unitcell phonopy.conf PAW_dataset.txt disp.yaml INCAR-force KPOINTS-relax INCAR-relax FORCE_SETS phonon.yaml POSCAR-unitcell.yaml\n",
      "Extracted folder and files removed.\n",
      "Processing 5/10: PhononData/mp-761148-20180417.tar.lzma\n",
      "PhononData/mp-761148-20180417.tar.lzma PhononData/mp-761148-20180417\n",
      "Extracted files: KPOINTS-force POSCAR-unitcell phonopy.conf PAW_dataset.txt disp.yaml INCAR-force KPOINTS-relax INCAR-relax FORCE_SETS phonon.yaml POSCAR-unitcell.yaml\n",
      "Extracted folder and files removed.\n",
      "Processing 6/10: PhononData/mp-15318-20180417.tar.lzma\n",
      "PhononData/mp-15318-20180417.tar.lzma PhononData/mp-15318-20180417\n",
      "Extracted files: KPOINTS-force POSCAR-unitcell phonopy.conf PAW_dataset.txt disp.yaml INCAR-force KPOINTS-relax INCAR-relax FORCE_SETS KPOINTS-nac phonon.yaml INCAR-nac POSCAR-unitcell.yaml BORN\n",
      "Extracted folder and files removed.\n",
      "Processing 7/10: PhononData/mp-18439-20180417.tar.lzma\n",
      "PhononData/mp-18439-20180417.tar.lzma PhononData/mp-18439-20180417\n",
      "Extracted files: KPOINTS-force POSCAR-unitcell phonopy.conf PAW_dataset.txt disp.yaml INCAR-force KPOINTS-relax INCAR-relax FORCE_SETS phonon.yaml POSCAR-unitcell.yaml\n",
      "Extracted folder and files removed.\n",
      "Processing 8/10: PhononData/mp-541013-20180417.tar.lzma\n",
      "PhononData/mp-541013-20180417.tar.lzma PhononData/mp-541013-20180417\n",
      "Extracted files: KPOINTS-force POSCAR-unitcell phonopy.conf PAW_dataset.txt disp.yaml INCAR-force KPOINTS-relax INCAR-relax FORCE_SETS KPOINTS-nac phonon.yaml INCAR-nac POSCAR-unitcell.yaml BORN\n",
      "Extracted folder and files removed.\n",
      "Processing 9/10: PhononData/mp-545346-20180417.tar.lzma\n",
      "PhononData/mp-545346-20180417.tar.lzma PhononData/mp-545346-20180417\n",
      "Extracted files: KPOINTS-force POSCAR-unitcell phonopy.conf PAW_dataset.txt disp.yaml INCAR-force KPOINTS-relax INCAR-relax FORCE_SETS KPOINTS-nac phonon.yaml INCAR-nac POSCAR-unitcell.yaml BORN\n",
      "Extracted folder and files removed.\n",
      "Processing 10/10: PhononData/mp-3395-20180417.tar.lzma\n",
      "PhononData/mp-3395-20180417.tar.lzma PhononData/mp-3395-20180417\n",
      "Extracted files: KPOINTS-force POSCAR-unitcell phonopy.conf PAW_dataset.txt disp.yaml INCAR-force KPOINTS-relax INCAR-relax FORCE_SETS KPOINTS-nac phonon.yaml INCAR-nac POSCAR-unitcell.yaml BORN\n",
      "Extracted folder and files removed.\n"
     ]
    }
   ],
   "source": [
    "def process_files(directory, num_files):\n",
    "    # 获取所有.tar.lzma文件\n",
    "    tar_files = list(directory.glob('*.tar.lzma'))[:num_files]\n",
    "\n",
    "    if not tar_files:\n",
    "        print(\"No .tar.lzma files found.\")\n",
    "        return\n",
    "\n",
    "    print(f\"Found {len(tar_files)} .tar.lzma files to process.\")\n",
    "    \n",
    "    for i, tar_file in enumerate(tar_files, 1):\n",
    "        print(f\"Processing {i}/{len(tar_files)}: {tar_file}\")\n",
    "        try:\n",
    "            # 解压文件\n",
    "            extract_dir = directory / tar_file.stem.split('.')[0]  # 为每个压缩文件创建一个单独的目录\n",
    "            print(tar_file,extract_dir)\n",
    "            # os.makedirs(extract_dir, exist_ok=True)\n",
    "            \n",
    "            with lzma.open(tar_file) as compressed:\n",
    "                with tarfile.open(fileobj=compressed) as tar:\n",
    "                    tar.extractall(path=directory)\n",
    "            \n",
    "            # 读取解压后的文件（根据您的需求进行处理）\n",
    "            # 使用列表推导式获取所有文件\n",
    "            extracted_files = [f for f in os.listdir(extract_dir) if os.path.isfile(os.path.join(extract_dir, f))]\n",
    "\n",
    "            # 使用 join() 将所有文件名连接成一个字符串，并打印\n",
    "            print(\"Extracted files:\", \" \".join(extracted_files))\n",
    "        \n",
    "\n",
    "            shutil.rmtree(extract_dir)  # 删除文件夹本身\n",
    "            print(\"Extracted folder and files removed.\")\n",
    "        except Exception as e:\n",
    "            print(f\"Error processing {tar_file}: {e}\")\n",
    "\n",
    "process_files(data_dir, num_files_to_process)"
   ]
  },
  {
   "cell_type": "code",
   "execution_count": 26,
   "metadata": {},
   "outputs": [],
   "source": [
    "from phonopy import Phonopy"
   ]
  },
  {
   "cell_type": "code",
   "execution_count": 28,
   "metadata": {},
   "outputs": [
    {
     "name": "stdout",
     "output_type": "stream",
     "text": [
      "lattice:\n",
      "- [     6.431448710000000,     0.000000000000000,    -0.029380370000000 ] # a\n",
      "- [     0.000000000000000,     6.608718410000000,     0.000000000000000 ] # b\n",
      "- [    -2.597264900000000,     0.000000000000000,     8.235010770000001 ] # c\n",
      "points:\n",
      "- symbol: S  # 1\n",
      "  coordinates: [  0.968696250000000,  0.363642400000000,  0.280487530000000 ]\n",
      "  mass: 32.065000\n",
      "- symbol: S  # 2\n",
      "  coordinates: [  0.573829520000000,  0.101118260000000,  0.834880280000000 ]\n",
      "  mass: 32.065000\n",
      "- symbol: S  # 3\n",
      "  coordinates: [  0.435164240000000,  0.531475270000000,  0.574898670000000 ]\n",
      "  mass: 32.065000\n",
      "- symbol: S  # 4\n",
      "  coordinates: [  0.564835760000000,  0.031475270000000,  0.425101330000000 ]\n",
      "  mass: 32.065000\n",
      "- symbol: S  # 5\n",
      "  coordinates: [  0.426170480000000,  0.601118260000000,  0.165119720000000 ]\n",
      "  mass: 32.065000\n",
      "- symbol: S  # 6\n",
      "  coordinates: [  0.985700130000000,  0.376165550000000,  0.701917470000000 ]\n",
      "  mass: 32.065000\n",
      "- symbol: S  # 7\n",
      "  coordinates: [  0.031303750000000,  0.863642400000000,  0.719512470000000 ]\n",
      "  mass: 32.065000\n",
      "- symbol: S  # 8\n",
      "  coordinates: [  0.014299870000000,  0.876165550000000,  0.298082530000000 ]\n",
      "  mass: 32.065000\n",
      "- symbol: K  # 9\n",
      "  coordinates: [  0.263267860000000,  0.122076150000000,  0.063417470000000 ]\n",
      "  mass: 39.098300\n",
      "- symbol: K  # 10\n",
      "  coordinates: [  0.736732140000000,  0.622076150000000,  0.936582530000000 ]\n",
      "  mass: 39.098300\n",
      "- symbol: Ge # 11\n",
      "  coordinates: [  0.776966250000000,  0.103054550000000,  0.673492920000000 ]\n",
      "  mass: 72.640000\n",
      "- symbol: Ge # 12\n",
      "  coordinates: [  0.223033750000000,  0.603054550000000,  0.326507080000000 ]\n",
      "  mass: 72.640000\n",
      "- symbol: Tb # 13\n",
      "  coordinates: [  0.772192230000000,  0.636737820000000,  0.449601600000000 ]\n",
      "  mass: 158.925350\n",
      "- symbol: Tb # 14\n",
      "  coordinates: [  0.227807770000000,  0.136737820000000,  0.550398400000000 ]\n",
      "  mass: 158.925350\n"
     ]
    }
   ],
   "source": [
    "dir = '/data/lizheng/phononet/test/mp-12011-20180417/'\n",
    "from phonopy.interface.calculator import read_crystal_structure\n",
    "unitcell, _ = read_crystal_structure(dir+\"POSCAR-unitcell\", interface_mode='vasp')\n",
    "print(unitcell)\n"
   ]
  },
  {
   "cell_type": "code",
   "execution_count": null,
   "metadata": {},
   "outputs": [],
   "source": []
  }
 ],
 "metadata": {
  "kernelspec": {
   "display_name": "phonons",
   "language": "python",
   "name": "python3"
  },
  "language_info": {
   "codemirror_mode": {
    "name": "ipython",
    "version": 3
   },
   "file_extension": ".py",
   "mimetype": "text/x-python",
   "name": "python",
   "nbconvert_exporter": "python",
   "pygments_lexer": "ipython3",
   "version": "3.10.0"
  }
 },
 "nbformat": 4,
 "nbformat_minor": 2
}
