{
 "cells": [
  {
   "cell_type": "code",
   "execution_count": 1,
   "metadata": {},
   "outputs": [],
   "source": [
    "from data import TrainDataLoader as tdl\n",
    "from data.test import testclass\n",
    "from model import *\n",
    "from training import *\n",
    "\n"
   ]
  },
  {
   "cell_type": "code",
   "execution_count": 2,
   "metadata": {},
   "outputs": [
    {
     "name": "stdout",
     "output_type": "stream",
     "text": [
      "当前工作目录是: /data/PhonoNet\n",
      "start process\n",
      "/data/PhonoNet/data/train/InSb\n",
      "True\n",
      "0\n",
      "10000\n",
      "20000\n",
      "30000\n",
      "40000\n",
      "50000\n",
      "60000\n",
      "70000\n",
      "80000\n",
      "90000\n",
      "100000\n",
      "110000\n",
      "120000\n",
      "130000\n",
      "140000\n",
      "150000\n",
      "160000\n"
     ]
    },
    {
     "ename": "AttributeError",
     "evalue": "'TrainDataLoader' object has no attribute 'aroundpath'",
     "output_type": "error",
     "traceback": [
      "\u001b[0;31m---------------------------------------------------------------------------\u001b[0m",
      "\u001b[0;31mAttributeError\u001b[0m                            Traceback (most recent call last)",
      "Cell \u001b[0;32mIn[2], line 11\u001b[0m\n\u001b[1;32m      9\u001b[0m base_path \u001b[38;5;241m=\u001b[39m current_path \u001b[38;5;241m+\u001b[39m \u001b[38;5;124m'\u001b[39m\u001b[38;5;124m/data/train/\u001b[39m\u001b[38;5;124m'\u001b[39m\n\u001b[1;32m     10\u001b[0m loader \u001b[38;5;241m=\u001b[39m tdl\u001b[38;5;241m.\u001b[39mTrainDataLoader(num_one_hot, base_path)\n\u001b[0;32m---> 11\u001b[0m \u001b[43mloader\u001b[49m\u001b[38;5;241;43m.\u001b[39;49m\u001b[43mprocess\u001b[49m\u001b[43m(\u001b[49m\u001b[38;5;124;43m'\u001b[39;49m\u001b[38;5;124;43maround_dos_tensor.pth\u001b[39;49m\u001b[38;5;124;43m'\u001b[39;49m\u001b[43m)\u001b[49m\n",
      "File \u001b[0;32m/data/PhonoNet/data/TrainDataLoader.py:219\u001b[0m, in \u001b[0;36mTrainDataLoader.process\u001b[0;34m(self, aroundpath)\u001b[0m\n\u001b[1;32m    217\u001b[0m \u001b[38;5;28;01mif\u001b[39;00m \u001b[38;5;129;01mnot\u001b[39;00m(os\u001b[38;5;241m.\u001b[39mpath\u001b[38;5;241m.\u001b[39mexists(subpath \u001b[38;5;241m+\u001b[39m \u001b[38;5;124m'\u001b[39m\u001b[38;5;124m/DataSet\u001b[39m\u001b[38;5;124m'\u001b[39m)):\n\u001b[1;32m    218\u001b[0m     \u001b[38;5;28mself\u001b[39m\u001b[38;5;241m.\u001b[39mmake_dataset(subpath)\n\u001b[0;32m--> 219\u001b[0m oh_data, One_hot, dos, qdos, around_dos, labels, Weight \u001b[38;5;241m=\u001b[39m \u001b[38;5;28;43mself\u001b[39;49m\u001b[38;5;241;43m.\u001b[39;49m\u001b[43mprepare_dataset\u001b[49m\u001b[43m(\u001b[49m\u001b[43msubpath\u001b[49m\u001b[43m,\u001b[49m\u001b[43m \u001b[49m\u001b[43maroundpath\u001b[49m\u001b[43m)\u001b[49m\n\u001b[1;32m    221\u001b[0m features \u001b[38;5;241m=\u001b[39m torch\u001b[38;5;241m.\u001b[39mcat((dos, qdos, around_dos), dim\u001b[38;5;241m=\u001b[39m\u001b[38;5;241m1\u001b[39m)\n\u001b[1;32m    222\u001b[0m all_features\u001b[38;5;241m.\u001b[39mappend(features)\n",
      "File \u001b[0;32m/data/PhonoNet/data/TrainDataLoader.py:165\u001b[0m, in \u001b[0;36mTrainDataLoader.prepare_dataset\u001b[0;34m(self, subpath, aroundpath)\u001b[0m\n\u001b[1;32m    163\u001b[0m     around_dos \u001b[38;5;241m=\u001b[39m around_dos\u001b[38;5;241m.\u001b[39mview(nkpt, \u001b[38;5;241m15\u001b[39m \u001b[38;5;241m*\u001b[39m \u001b[38;5;28mself\u001b[39m\u001b[38;5;241m.\u001b[39mnum_one_hot)\n\u001b[1;32m    164\u001b[0m \u001b[38;5;28;01melse\u001b[39;00m:\n\u001b[0;32m--> 165\u001b[0m     around_dos \u001b[38;5;241m=\u001b[39m \u001b[38;5;28;43mself\u001b[39;49m\u001b[38;5;241;43m.\u001b[39;49m\u001b[43maround_dos\u001b[49m\u001b[43m(\u001b[49m\u001b[43moh_data\u001b[49m\u001b[43m,\u001b[49m\u001b[43m \u001b[49m\u001b[43mOne_hot\u001b[49m\u001b[43m,\u001b[49m\u001b[43m \u001b[49m\u001b[43mnkpt\u001b[49m\u001b[43m,\u001b[49m\u001b[43msubpath\u001b[49m\u001b[43m)\u001b[49m\n\u001b[1;32m    166\u001b[0m     around_dos \u001b[38;5;241m=\u001b[39m around_dos\u001b[38;5;241m.\u001b[39mview(nkpt, \u001b[38;5;241m15\u001b[39m \u001b[38;5;241m*\u001b[39m \u001b[38;5;28mself\u001b[39m\u001b[38;5;241m.\u001b[39mnum_one_hot)\n\u001b[1;32m    168\u001b[0m labels \u001b[38;5;241m=\u001b[39m all_data[:, all_data\u001b[38;5;241m.\u001b[39mshape[\u001b[38;5;241m1\u001b[39m] \u001b[38;5;241m-\u001b[39m \u001b[38;5;241m1\u001b[39m:]\n",
      "File \u001b[0;32m/data/PhonoNet/data/TrainDataLoader.py:202\u001b[0m, in \u001b[0;36mTrainDataLoader.around_dos\u001b[0;34m(self, oh_data, One_hot, nkpt, subpath)\u001b[0m\n\u001b[1;32m    199\u001b[0m         around_dos[qp][i] \u001b[38;5;241m=\u001b[39m around_dos[qp][i] \u001b[38;5;241m/\u001b[39m size\n\u001b[1;32m    200\u001b[0m         around_dos[qp][i] \u001b[38;5;241m=\u001b[39m \u001b[38;5;28mself\u001b[39m\u001b[38;5;241m.\u001b[39mne_dos(around_dos[qp][i], energy)\n\u001b[0;32m--> 202\u001b[0m torch\u001b[38;5;241m.\u001b[39msave(around_dos, subpath \u001b[38;5;241m+\u001b[39m \u001b[38;5;28;43mself\u001b[39;49m\u001b[38;5;241;43m.\u001b[39;49m\u001b[43maroundpath\u001b[49m)\n\u001b[1;32m    203\u001b[0m \u001b[38;5;28;01mreturn\u001b[39;00m around_dos\n",
      "\u001b[0;31mAttributeError\u001b[0m: 'TrainDataLoader' object has no attribute 'aroundpath'"
     ]
    }
   ],
   "source": [
    "import os\n",
    "\n",
    "current_path = os.getcwd()\n",
    "print(\"当前工作目录是:\", current_path)\n",
    "\n",
    "# test_ins = testclass()\n",
    "# Usage\n",
    "num_one_hot = 300\n",
    "base_path = current_path + '/data/train/'\n",
    "loader = tdl.TrainDataLoader(num_one_hot, base_path)\n",
    "loader.process('around_dos_tensor.pth')"
   ]
  },
  {
   "cell_type": "code",
   "execution_count": null,
   "metadata": {},
   "outputs": [],
   "source": []
  }
 ],
 "metadata": {
  "kernelspec": {
   "display_name": "phonons",
   "language": "python",
   "name": "python3"
  },
  "language_info": {
   "codemirror_mode": {
    "name": "ipython",
    "version": 3
   },
   "file_extension": ".py",
   "mimetype": "text/x-python",
   "name": "python",
   "nbconvert_exporter": "python",
   "pygments_lexer": "ipython3",
   "version": "3.10.0"
  }
 },
 "nbformat": 4,
 "nbformat_minor": 2
}
